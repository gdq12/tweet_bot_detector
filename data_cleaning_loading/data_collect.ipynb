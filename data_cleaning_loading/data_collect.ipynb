{
 "cells": [
  {
   "cell_type": "code",
   "execution_count": null,
   "metadata": {},
   "outputs": [],
   "source": [
    "from dask.distributed import Client \n",
    "from dask_cloudprovider.aws import EC2Cluster\n",
    "import pandas as pd\n",
    "import numpy as np\n",
    "import dask.dataframe as dd\n",
    "import dask.array as da\n",
    "import matplotlib.pyplot as plt\n",
    "import seaborn as sns "
   ]
  },
  {
   "cell_type": "code",
   "execution_count": null,
   "metadata": {},
   "outputs": [],
   "source": [
    "# for local connection\n",
    "client=Client(n_workers=2, threads_per_worker=1, memory_limit='1G')\n",
    "client"
   ]
  },
  {
   "cell_type": "code",
   "execution_count": null,
   "metadata": {},
   "outputs": [],
   "source": [
    "cluster=EC2Cluster()\n",
    "cluster.scale(2)\n",
    "cluster = EC2Cluster(instance_type=\"t2.micro\",\n",
    "                     filesystem_size=8)\n",
    "client = Client(cluster)\n",
    "client"
   ]
  },
  {
   "cell_type": "code",
   "execution_count": null,
   "metadata": {},
   "outputs": [],
   "source": [
    "def load_data():\n",
    "    '''\n",
    "    Load data into local environment as dask ddfs\n",
    "    '''\n",
    "    real=dd.read_csv('cresci_data/genuine_accounts/tweets.csv', \n",
    "                     parse_dates=['created_at', 'timestamp', 'crawled_at', 'updated'], \n",
    "                     dtype={'geo':str, 'place':str})\n",
    "    real_id=dd.read_csv('cresci_data/genuine_accounts/users.csv', \n",
    "                        parse_dates=['created_at', 'timestamp', 'crawled_at', 'updated'])\n",
    "    \n",
    "    fake_follow=dd.read_csv('cresci_data/fake_followers/tweets.csv', \n",
    "                            parse_dates=['created_at', 'timestamp'], dtype={'geo':str, 'place':str})\n",
    "    fake_follow_id=dd.read_csv('cresci_data/fake_followers/users.csv', \n",
    "                               parse_dates=['created_at','updated'])\n",
    "    fake_follow_id['created_at']=fake_follow_id.map_partitions(\n",
    "        lambda df: df.created_at.apply(\n",
    "            lambda x: x.replace(tzinfo=None)))\n",
    "    \n",
    "    social_spambots=dd.read_csv('cresci_data/social_spambots_*/twe*', \n",
    "                                parse_dates=['created_at', 'timestamp', 'crawled_at', 'updated'], \n",
    "                                dtype={'geo':str, 'place':str})\n",
    "    social_spambots_id=dd.read_csv('cresci_data/social_spambots_*/use*', \n",
    "                                   parse_dates=['created_at', 'timestamp', 'crawled_at', 'updated'])\n",
    "    \n",
    "    traditional_spambots=dd.read_csv('cresci_data/traditional_spambots_1/tweets.csv', \n",
    "                                     parse_dates=['created_at', 'timestamp', 'crawled_at', 'updated'], \n",
    "                                     dtype={'geo':str, 'place':str})\n",
    "    traditional_spambots_id=dd.read_csv('cresci_data/traditional_spambots_*/u*', \n",
    "                                        parse_dates=['created_at', 'timestamp', 'crawled_at', 'updated'],\n",
    "                                        dtype={'lang': str,\n",
    "                                               'profile_background_color': str,\n",
    "                                               'profile_background_image_url_https': str,\n",
    "                                               'profile_banner_url': str,\n",
    "                                               'profile_image_url_https': str,\n",
    "                                               'profile_sidebar_border_color': str,\n",
    "                                               'profile_sidebar_fill_color': str,\n",
    "                                               'profile_link_color': str,\n",
    "                                               'profile_text_color': str,\n",
    "                                               'time_zone': str})\n",
    "    \n",
    "    return real, real_id, fake_follow, fake_follow_id, social_spambots, social_spambots_id, traditional_spambots, traditional_spambots_id"
   ]
  },
  {
   "cell_type": "code",
   "execution_count": null,
   "metadata": {},
   "outputs": [],
   "source": [
    "def na_filler(ddf):\n",
    "    '''\n",
    "    Replace Na's with 0 in ddf and change columns to appropriate data types \n",
    "    '''\n",
    "    new_ddf=ddf.map_partitions(lambda df: df.fillna(0))\n",
    "    return new_ddf"
   ]
  },
  {
   "cell_type": "code",
   "execution_count": null,
   "metadata": {},
   "outputs": [],
   "source": [
    "def bot_string(ddf, bot_var=1):\n",
    "    '''\n",
    "    Create bot label column and other columns that indicate whether is \n",
    "    'bot' in the user name, screen name and description.\n",
    "    0=no 'bot'\n",
    "    1=yes 'bot'\n",
    "    '''\n",
    "    ddf1=ddf.map_partitions(lambda df: df.assign(bot=bot_var))\n",
    "\n",
    "\n",
    "    ddf2=ddf1.map_partitions(lambda df: \n",
    "                           df.assign(bot_name=\n",
    "                                     df['name'].apply(lambda x:\n",
    "                                                      np.where('bot' in str(x), 1, 0).item())))\n",
    "    ddf3=ddf2.map_partitions(lambda df: \n",
    "                           df.assign(bot_screen_name=\n",
    "                                     df['screen_name'].apply(lambda x:\n",
    "                                                             np.where('bot' in str(x), 1, 0).item())))\n",
    "    ddf4=ddf3.map_partitions(lambda df: \n",
    "                           df.assign(bot_description=\n",
    "                                     df['description'].apply(lambda x:\n",
    "                                                             np.where('bot' in str(x), 1, 0).item())))\n",
    "    return ddf4"
   ]
  },
  {
   "cell_type": "code",
   "execution_count": null,
   "metadata": {},
   "outputs": [],
   "source": [
    "def string_len(ddf):\n",
    "    '''\n",
    "    Calulate the length of name, screen name and description of each user\n",
    "    '''\n",
    "    ddf1=ddf.map_partitions(lambda df: \n",
    "                           df.assign(len_name=df['name'].apply(lambda x: len(str(x)))))\n",
    "    ddf2=ddf1.map_partitions(lambda df: \n",
    "                           df.assign(len_screen_name=df['screen_name'].apply(lambda x: len(str(x)))))\n",
    "    ddf3=ddf2.map_partitions(lambda df: \n",
    "                           df.assign(len_description=df['description'].apply(lambda x: len(str(x)))))\n",
    "    return ddf3        "
   ]
  },
  {
   "cell_type": "code",
   "execution_count": null,
   "metadata": {},
   "outputs": [],
   "source": [
    "def account_age(ddf, timeA, timeB):\n",
    "    '''\n",
    "    Calculate account age by seconds (due to bots having very short life span).\n",
    "    '''\n",
    "    ddf1=ddf.map_partitions(lambda df: df.assign(age_seconds=df.apply(lambda x: \n",
    "                                                                     ((x[timeB]-x[timeA])/np.timedelta64(1, 's')), axis=1)))\n",
    "    return ddf1"
   ]
  },
  {
   "cell_type": "code",
   "execution_count": null,
   "metadata": {},
   "outputs": [],
   "source": [
    "def tweet_rate(ddf, ddf_id, column_name):\n",
    "    '''\n",
    "    Calcuate the number of tweets each user sent (num tweets/seconds)\n",
    "    '''\n",
    "    custom_time=dd.Aggregation('custom_rate',\n",
    "                          lambda t: (t.max(), t.min()),\n",
    "                          lambda chunk, chunk1: ((chunk.max()-chunk1.min())/np.timedelta64(1, 's')))\n",
    "    \n",
    "    tweet_rate=ddf.groupby('user_id').agg(\n",
    "        {'id':'count', column_name:custom_time}).replace(0, 1).eval(\n",
    "        f'tweet_rate=id/{column_name}').drop(['id', column_name], axis=1)\n",
    "    \n",
    "    ddf1=ddf_id.merge(tweet_rate, left_on='id', right_on='user_id', how='left').fillna(0)\n",
    "    \n",
    "    return ddf1    "
   ]
  },
  {
   "cell_type": "code",
   "execution_count": null,
   "metadata": {},
   "outputs": [],
   "source": [
    "real, real_id, fake_follow, fake_follow_id, social_spambots, social_spambots_id, traditional_spambots, traditional_spambots_id=load_data()"
   ]
  },
  {
   "cell_type": "code",
   "execution_count": null,
   "metadata": {},
   "outputs": [],
   "source": [
    "real=na_filler(real)\n",
    "real_id=na_filler(real_id)\n",
    "fake_follow=na_filler(fake_follow)\n",
    "fake_follow_id=na_filler(fake_follow_id)\n",
    "social_spambots=na_filler(social_spambots)\n",
    "social_spambots_id=na_filler(social_spambots_id)\n",
    "traditional_spambots=na_filler(traditional_spambots)\n",
    "traditional_spambots_id=na_filler(traditional_spambots_id)"
   ]
  },
  {
   "cell_type": "code",
   "execution_count": null,
   "metadata": {},
   "outputs": [],
   "source": [
    "real_id=bot_string(real_id, bot_var=0)\n",
    "fake_follow_id=bot_string(fake_follow_id)\n",
    "social_spambots_id=bot_string(social_spambots_id)\n",
    "traditional_spambots_id=bot_string(traditional_spambots_id)"
   ]
  },
  {
   "cell_type": "code",
   "execution_count": null,
   "metadata": {},
   "outputs": [],
   "source": [
    "real_id=string_len(real_id)\n",
    "fake_follow_id=string_len(fake_follow_id)\n",
    "social_spambots_id=string_len(social_spambots_id)\n",
    "traditionalspambots_id=string_len(traditional_spambots_id)"
   ]
  },
  {
   "cell_type": "code",
   "execution_count": null,
   "metadata": {},
   "outputs": [],
   "source": [
    "real_id=account_age(real_id, 'timestamp', 'updated')\n",
    "fake_follow_id=account_age(fake_follow_id, 'created_at', 'updated')\n",
    "social_spambots_id=account_age(social_spambots_id, 'timestamp', 'updated')\n",
    "traditional_spambots_id=account_age(traditional_spambots_id, 'timestamp', 'updated')"
   ]
  },
  {
   "cell_type": "code",
   "execution_count": null,
   "metadata": {},
   "outputs": [],
   "source": [
    "real_id=tweet_rate(real, real_id, 'updated')\n",
    "fake_follow_id=tweet_rate(fake_follow, fake_follow_id, 'timestamp')\n",
    "social_spambots_id=tweet_rate(social_spambots, social_spambots_id, 'updated')\n",
    "traditional_spambots_id=tweet_rate(traditional_spambots, traditional_spambots_id, 'updated')"
   ]
  },
  {
   "cell_type": "code",
   "execution_count": null,
   "metadata": {},
   "outputs": [],
   "source": [
    "fake_follow_id.head()"
   ]
  },
  {
   "cell_type": "code",
   "execution_count": null,
   "metadata": {},
   "outputs": [],
   "source": [
    "traditional_spambots.retweet_count.value_counts().compute()"
   ]
  },
  {
   "cell_type": "code",
   "execution_count": null,
   "metadata": {},
   "outputs": [],
   "source": []
  },
  {
   "cell_type": "code",
   "execution_count": null,
   "metadata": {},
   "outputs": [],
   "source": []
  },
  {
   "cell_type": "code",
   "execution_count": null,
   "metadata": {},
   "outputs": [],
   "source": []
  },
  {
   "cell_type": "code",
   "execution_count": null,
   "metadata": {},
   "outputs": [],
   "source": []
  },
  {
   "cell_type": "code",
   "execution_count": null,
   "metadata": {},
   "outputs": [],
   "source": []
  },
  {
   "cell_type": "code",
   "execution_count": null,
   "metadata": {},
   "outputs": [],
   "source": []
  },
  {
   "cell_type": "markdown",
   "metadata": {},
   "source": [
    "# EDA"
   ]
  },
  {
   "cell_type": "code",
   "execution_count": null,
   "metadata": {},
   "outputs": [],
   "source": [
    "sns.scatterplot(x='followers_count', y='friends_count', data=real_id.compute()).set_title('Real users')"
   ]
  },
  {
   "cell_type": "code",
   "execution_count": null,
   "metadata": {},
   "outputs": [],
   "source": [
    "sns.scatterplot(x='followers_count', y='friends_count', data=fake_follow_id.compute()).set_title('Fake follower bots')"
   ]
  },
  {
   "cell_type": "code",
   "execution_count": null,
   "metadata": {},
   "outputs": [],
   "source": [
    "sns.scatterplot(x='followers_count', y='friends_count', data=social_spambots_id.compute()).set_title('Social spambots')"
   ]
  },
  {
   "cell_type": "code",
   "execution_count": null,
   "metadata": {},
   "outputs": [],
   "source": [
    "sns.scatterplot(x='followers_count', y='friends_count', \n",
    "                data=traditional_spambots_id.compute()).set_title('Traditional spambots')"
   ]
  },
  {
   "cell_type": "code",
   "execution_count": null,
   "metadata": {},
   "outputs": [],
   "source": []
  }
 ],
 "metadata": {
  "kernelspec": {
   "display_name": "dask-tutorial",
   "language": "python",
   "name": "dask-tutorial"
  },
  "language_info": {
   "codemirror_mode": {
    "name": "ipython",
    "version": 3
   },
   "file_extension": ".py",
   "mimetype": "text/x-python",
   "name": "python",
   "nbconvert_exporter": "python",
   "pygments_lexer": "ipython3",
   "version": "3.8.6"
  }
 },
 "nbformat": 4,
 "nbformat_minor": 4
}
